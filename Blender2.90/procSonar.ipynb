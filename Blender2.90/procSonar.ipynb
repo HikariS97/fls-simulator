{
 "cells": [
  {
   "cell_type": "code",
   "execution_count": 6,
   "metadata": {},
   "outputs": [
    {
     "name": "stdout",
     "output_type": "stream",
     "text": [
      "use default res: 0.005988023952095809 meter/pixel\n",
      "xres: 0.005987261146496815\n",
      "yres: 0.005982199665026147\n",
      "The real pose of soanr is x:3.4700000286102295, y:-0.04999999701976776, z:2.000000238418579, roll:1.3281958103179932, pitch:0.02617993764579296, yaw:1.4974913597106934\n"
     ]
    },
    {
     "data": {
      "image/png": "[encoded data removed]",
      "text/plain": [
       "<Figure size 720x720 with 1 Axes>"
      ]
     },
     "metadata": {
      "needs_background": "light"
     },
     "output_type": "display_data"
    },
    {
     "data": {
      "image/png": "[encoded data removed]",
      "text/plain": [
       "<Figure size 720x720 with 1 Axes>"
      ]
     },
     "metadata": {
      "needs_background": "light"
     },
     "output_type": "display_data"
    }
   ],
   "source": [
    "from procSonar import *\n",
    "from skimage.io import imread\n",
    "import matplotlib.pyplot as plt\n",
    "import scipy.io as sio\n",
    "import numpy as np\n",
    "from angle_table import angle_table\n",
    "from palettable.cmocean.sequential import Ice_20\n",
    "\n",
    "### 设置参数\n",
    "rmin = 0.7\n",
    "rmax = 4.7\n",
    "nbeams = 96  # ARIS 1800 High Freq\n",
    "distance_resolution = 0.006\n",
    "res = (rmax-rmin) / int(np.round((rmax-rmin) / distance_resolution))\n",
    "r_of_cylinder = 0.025\n",
    "\n",
    "### 显示图片的函数\n",
    "\n",
    "### 读入 polar 图像\n",
    "polar = imread('./fls/polar0.png', as_gray=True)\n",
    "plt.figure(figsize=(10, 10))\n",
    "plt.imshow(polar, cmap=Ice_20.mpl_colormap)\n",
    "\n",
    "### 计算 LUT 并转换\n",
    "LUT = computeLUT(rmin=rmin, rmax=rmax, angle_table=angle_table, res=None, img=polar)\n",
    "carte = remap(polar, LUT)\n",
    "plt.figure(figsize=(10, 10))\n",
    "plt.imshow(carte, cmap=Ice_20.mpl_colormap)\n",
    "\n",
    "### 读入 poses\n",
    "pose = sio.loadmat('./fls/pose0.mat')\n",
    "cam_xyz = pose['cam_xyz'][0]\n",
    "cam_rpy = pose['cam_rpy'][0]\n",
    "print(\"The real pose of soanr is x:{}, y:{}, z:{}, roll:{}, pitch:{}, yaw:{}\"\n",
    "      .format(cam_xyz[0], cam_xyz[1], cam_xyz[2], cam_rpy[0], cam_rpy[1], cam_rpy[2]))\n"
   ]
  },
  {
   "cell_type": "code",
   "execution_count": 7,
   "metadata": {},
   "outputs": [
    {
     "name": "stdout",
     "output_type": "stream",
     "text": [
      "h\n"
     ]
    }
   ],
   "source": [
    "###### 通过 Affinity Photo 手动得到端点的坐标，尝试是否能恢复出声呐的位姿\n",
    "###### a b c -> left, center, right.\n",
    "###### n f -> near, far\n",
    "###### [beam, bin]\n",
    "an = np.array([22, 463])\n",
    "af = np.array([26, 499])\n",
    "bn = np.array([30, 462])\n",
    "bf = np.array([44, 500])\n",
    "cn = np.array([53, 465])\n",
    "cf = np.array([53, 503])\n",
    "\n",
    "# Convert points in sonar img into 3D coordinates in the center of sonar\n",
    "def polar2rect3D(theta, phi, r):\n",
    "    x = r*np.cos(phi)*np.sin(theta)\n",
    "    y = r*np.sin(phi)\n",
    "    z = -r*np.cos(phi)*np.cos(theta)\n",
    "    return np.array([x,y,z])\n",
    "\n",
    "### 3D coords in sonar\n",
    "an_xyz = polar2rect3D(angle_table.ac[an[0]], np.deg2rad(7), an[1]*res+rmin)\n",
    "af_xyz = polar2rect3D(angle_table.ac[af[0]], np.deg2rad(-7), af[1]*res+rmin)\n",
    "bn_xyz = polar2rect3D(angle_table.ac[bn[0]], np.deg2rad(7), bn[1]*res+rmin)\n",
    "bf_xyz = polar2rect3D(angle_table.ac[bf[0]], np.deg2rad(-7), bf[1]*res+rmin)\n",
    "cn_xyz = polar2rect3D(angle_table.ac[cn[0]], np.deg2rad(7), cn[1]*res+rmin)\n",
    "cf_xyz = polar2rect3D(angle_table.ac[cf[0]], np.deg2rad(-7), cf[1]*res+rmin)\n",
    "\n",
    "### real matrix\n",
    "rROT = R.from_euler('xyz', cam_rpy).as_matrix()\n",
    "rt = cam_xyz.reshape(-1, 1)  # [3, 1]\n",
    "\n",
    "\n",
    "\n",
    "### Get 2x4 extended matrix\n",
    "### R24 = [R11, R12, R13, tx]\n",
    "###       [R21, R22, R23, ty]\n",
    "pc = np.matrix([[an_xyz[0], af_xyz[0]]])\n",
    "print('h')\n"
   ]
  },
  {
   "cell_type": "code",
   "execution_count": null,
   "metadata": {},
   "outputs": [],
   "source": []
  }
 ],
 "metadata": {
  "kernelspec": {
   "display_name": "base",
   "language": "python",
   "name": "python3"
  },
  "language_info": {
   "codemirror_mode": {
    "name": "ipython",
    "version": 3
   },
   "file_extension": ".py",
   "mimetype": "text/x-python",
   "name": "python",
   "nbconvert_exporter": "python",
   "pygments_lexer": "ipython3",
   "version": "3.7.6 (default, Jan  8 2020, 20:23:39) [MSC v.1916 64 bit (AMD64)]"
  },
  "orig_nbformat": 4,
  "vscode": {
   "interpreter": {
    "hash": "f204ad818edbaae3b53f8ddbaeddfce2e3c7b3c1901f72a9f41e540d9a6c1f2c"
   }
  }
 },
 "nbformat": 4,
 "nbformat_minor": 2
}
